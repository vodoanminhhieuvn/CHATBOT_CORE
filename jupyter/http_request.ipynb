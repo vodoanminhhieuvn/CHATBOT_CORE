{
 "cells": [
  {
   "cell_type": "code",
   "execution_count": 2,
   "metadata": {},
   "outputs": [],
   "source": [
    "SPOON_API_KEY = \"630f23d681534cd7b10aaa492800a5cd\"\n",
    "SPOON_TARGET_URL = \"https://api.spoonacular.com/recipes/complexSearch\"\n",
    "\n",
    "EDAMAM_APP_ID = \"d736f71a\"\n",
    "EDAMAM_API_KEY = \"5a61563f39257241ba253b7e87328f5a\"\n",
    "EDAMAM_TARGET_URL = \"https://api.edamam.com/api/recipes/v2\"\n",
    "\n",
    "GENERATE_MEAL_URL = \"https://api.spoonacular.com/mealplanner/generate\""
   ]
  },
  {
   "cell_type": "code",
   "execution_count": 3,
   "metadata": {},
   "outputs": [],
   "source": [
    "FIND_RECIPE_CONFIG = {\n",
    "    \"app_id\": EDAMAM_APP_ID,\n",
    "    \"app_key\": EDAMAM_API_KEY,\n",
    "    \"type\": \"public\",\n",
    "}"
   ]
  },
  {
   "cell_type": "code",
   "execution_count": 3,
   "metadata": {},
   "outputs": [],
   "source": [
    "CREATE_MEAL_PLAN_CONFIG = {\n",
    "    \"apiKey\": SPOON_API_KEY,\n",
    "}"
   ]
  },
  {
   "cell_type": "code",
   "execution_count": 6,
   "metadata": {},
   "outputs": [
    {
     "name": "stdout",
     "output_type": "stream",
     "text": [
      "{'calories': '12-23', 'app_id': 'd736f71a', 'app_key': '5a61563f39257241ba253b7e87328f5a', 'type': 'public'}\n"
     ]
    }
   ],
   "source": [
    "params = {\n",
    "  'calories': '12-23',\n",
    "  **FIND_RECIPE_CONFIG\n",
    "}\n",
    "\n",
    "print(params)"
   ]
  },
  {
   "cell_type": "code",
   "execution_count": 6,
   "metadata": {},
   "outputs": [],
   "source": [
    "import requests\n",
    "\n",
    "def request_post_api(url: str, json: any = None, params: any = None) -> requests.Response:\n",
    "    try:\n",
    "        return requests.get(url=url, json=json, params=params)\n",
    "\n",
    "    except requests.exceptions.HTTPError as errh:\n",
    "        return errh\n",
    "    except requests.exceptions.ConnectionError as errc:\n",
    "        return errc\n",
    "    except requests.exceptions.Timeout as errt:\n",
    "        return errt\n",
    "    except requests.exceptions.RequestException as err:\n",
    "        return err"
   ]
  },
  {
   "cell_type": "code",
   "execution_count": 4,
   "metadata": {},
   "outputs": [],
   "source": [
    "params = {\n",
    "  'timeFrame': 'day',\n",
    "  **CREATE_MEAL_PLAN_CONFIG\n",
    "}\n",
    "\n",
    "def run():\n",
    "  response = request_post_api(url=GENERATE_MEAL_URL, params=params)\n",
    "  print(response.json())"
   ]
  },
  {
   "cell_type": "code",
   "execution_count": 7,
   "metadata": {},
   "outputs": [
    {
     "name": "stdout",
     "output_type": "stream",
     "text": [
      "{'meals': [{'id': 245281, 'imageType': 'jpg', 'title': 'Berry Almond Crumble', 'readyInMinutes': 70, 'servings': 6, 'sourceUrl': 'https://www.simplyrecipes.com/recipes/berry_almond_crumble/'}, {'id': 157202, 'imageType': 'jpg', 'title': 'Pasta With Mushrooms, Brussels Sprouts, and Parmesan', 'readyInMinutes': 25, 'servings': 4, 'sourceUrl': 'http://www.seriouseats.com/recipes/2013/10/orecchiette-pasta-with-mushrooms-brussels-sprouts-recipe.html'}, {'id': 365799, 'imageType': 'jpeg', 'title': \"Grandma Lizzie's Cornbread Dressing\", 'readyInMinutes': 90, 'servings': 10, 'sourceUrl': 'http://www.foodnetwork.com/recipes/trisha-yearwood/grandma-lizzies-cornbread-dressing-recipe.html'}], 'nutrients': {'calories': 1822.59, 'protein': 52.18, 'fat': 73.56, 'carbohydrates': 243.47}}\n"
     ]
    }
   ],
   "source": [
    "run()"
   ]
  },
  {
   "cell_type": "code",
   "execution_count": null,
   "metadata": {},
   "outputs": [],
   "source": []
  }
 ],
 "metadata": {
  "interpreter": {
   "hash": "e53ceeece10c14de9b351bcc254f92d9bd65b66b08d1dc5918be703d9c02a900"
  },
  "kernelspec": {
   "display_name": "Python 3.8.9 ('chatbot_lib': venv)",
   "language": "python",
   "name": "python3"
  },
  "language_info": {
   "codemirror_mode": {
    "name": "ipython",
    "version": 3
   },
   "file_extension": ".py",
   "mimetype": "text/x-python",
   "name": "python",
   "nbconvert_exporter": "python",
   "pygments_lexer": "ipython3",
   "version": "3.8.9"
  },
  "orig_nbformat": 4
 },
 "nbformat": 4,
 "nbformat_minor": 2
}
